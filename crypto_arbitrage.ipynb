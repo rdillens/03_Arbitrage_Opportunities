{
 "cells": [
  {
   "cell_type": "markdown",
   "metadata": {},
   "source": [
    "# Crypto Arbitrage\n",
    "An app to show the difference in price for Bitcoin (BTC) on two exchanges: Bitstamp and Coinbase"
   ]
  },
  {
   "cell_type": "code",
   "execution_count": 1,
   "metadata": {},
   "outputs": [],
   "source": [
    "import pandas as pd\n",
    "from pathlib import Path\n",
    "\n",
    "from datetime import timedelta\n",
    "\n",
    "import ipywidgets as widgets\n",
    "from IPython.display import display\n",
    "\n",
    "import collection\n",
    "import vizualization as vz\n"
   ]
  },
  {
   "cell_type": "code",
   "execution_count": 2,
   "metadata": {},
   "outputs": [
    {
     "data": {
      "application/vnd.jupyter.widget-view+json": {
       "model_id": "ca22b92686e14b05b1a64abc3f2e3cd0",
       "version_major": 2,
       "version_minor": 0
      },
      "text/plain": [
       "Output()"
      ]
     },
     "metadata": {},
     "output_type": "display_data"
    }
   ],
   "source": [
    "output = widgets.Output()\n",
    "display(output)"
   ]
  },
  {
   "cell_type": "markdown",
   "metadata": {},
   "source": [
    "## Data Collection\n",
    "Historic trade data imported from CSV file in the Resources folder.\n",
    "*Timestamp, Open, High, Low, Close, BTC Volume, USD Volume, Weighted Price* is collected from two exchanges: **Bitstamp** and **Coinbase**."
   ]
  },
  {
   "cell_type": "code",
   "execution_count": 3,
   "metadata": {},
   "outputs": [
    {
     "data": {
      "application/vnd.jupyter.widget-view+json": {
       "model_id": "4bcce784395b4652b54c86675602eb0e",
       "version_major": 2,
       "version_minor": 0
      },
      "text/plain": [
       "Tab(children=(Output(layout=Layout(border='1px solid black')), Output(layout=Layout(border='1px solid black'))…"
      ]
     },
     "metadata": {},
     "output_type": "display_data"
    }
   ],
   "source": [
    "tab_list = ['Bitstamp', 'Coinbase']\n",
    "bitstamp_summary_output = widgets.Output(layout={'border': '1px solid black'})\n",
    "coinbase_summary_output = widgets.Output(layout={'border': '1px solid black'})\n",
    "tab = widgets.Tab()\n",
    "tab.children = [bitstamp_summary_output, coinbase_summary_output]\n",
    "for i, t in enumerate(tab_list):\n",
    "    tab.set_title(i, t)\n",
    "tab"
   ]
  },
  {
   "cell_type": "code",
   "execution_count": 4,
   "metadata": {},
   "outputs": [],
   "source": [
    "# Instantiate Data_Container class for Bitstamp\n",
    "bitstamp = collection.Data_Container()\n",
    "bitstamp.df = bitstamp.read_csv(Path(\"Resources/bitstamp.csv\"))\n",
    "bitstamp.clean_data()\n",
    "\n",
    "# Slice the DataFrames for the timestamp and 'Close' price \n",
    "bitstamp.slice_data()\n",
    "\n",
    "# Generate the summary statistics for the DataFrame\n",
    "bitstamp_summary = bitstamp.df.describe(include='all')\n",
    "\n",
    "with bitstamp_summary_output:\n",
    "    display(bitstamp_summary)"
   ]
  },
  {
   "cell_type": "code",
   "execution_count": 5,
   "metadata": {},
   "outputs": [],
   "source": [
    "# Instantiate Data_Container class for Coinbase\n",
    "coinbase = collection.Data_Container()\n",
    "coinbase.df =  coinbase.read_csv(Path(\"Resources/coinbase.csv\"))\n",
    "coinbase.clean_data()\n",
    "\n",
    "# Slice the DataFrames for the timestamp and 'Close' price \n",
    "coinbase.slice_data()\n",
    "\n",
    "# Generate the summary statistics for the DataFrame\n",
    "coinbase_summary = coinbase.df.describe(include='all')\n",
    "\n",
    "with coinbase_summary_output:\n",
    "    display(coinbase_summary)\n"
   ]
  },
  {
   "cell_type": "code",
   "execution_count": 6,
   "metadata": {},
   "outputs": [],
   "source": [
    "main_df = pd.DataFrame(data=[bitstamp.sliced, coinbase.sliced], index=['Bitstamp', 'Coinbase']).T\n",
    "# display(main_df)"
   ]
  },
  {
   "cell_type": "markdown",
   "metadata": {},
   "source": [
    "## Analysis\n",
    "Calculate the difference in price *(spread)* between the two exchanges and the *percent return* for each **close price**."
   ]
  },
  {
   "cell_type": "code",
   "execution_count": 7,
   "metadata": {},
   "outputs": [],
   "source": [
    "# Calculate the spread between the two exchanges and add column to the DataFrame\n",
    "main_df['Spread'] = (main_df['Bitstamp'] - main_df['Coinbase']).abs()"
   ]
  },
  {
   "cell_type": "code",
   "execution_count": 8,
   "metadata": {},
   "outputs": [],
   "source": [
    "# Function to calculate the percentage of the arbitrage spread\n",
    "def calc_arbitrage_percent(df):\n",
    "    if df['Bitstamp'] < df['Coinbase']:\n",
    "        return 100 * df['Spread'] / df['Bitstamp']\n",
    "    elif df['Bitstamp'] > df['Coinbase']:\n",
    "        return 100 * df['Spread'] / df['Coinbase']\n",
    "    else:\n",
    "        return 0.00"
   ]
  },
  {
   "cell_type": "code",
   "execution_count": 9,
   "metadata": {},
   "outputs": [],
   "source": [
    "# Apply the function to calculate arbitrage spread and add the column to the DataFrame\n",
    "main_df['Return %'] = main_df.apply(calc_arbitrage_percent, axis=1)"
   ]
  },
  {
   "cell_type": "code",
   "execution_count": 23,
   "metadata": {},
   "outputs": [
    {
     "data": {
      "text/html": [
       "<div>\n",
       "<style scoped>\n",
       "    .dataframe tbody tr th:only-of-type {\n",
       "        vertical-align: middle;\n",
       "    }\n",
       "\n",
       "    .dataframe tbody tr th {\n",
       "        vertical-align: top;\n",
       "    }\n",
       "\n",
       "    .dataframe thead th {\n",
       "        text-align: right;\n",
       "    }\n",
       "</style>\n",
       "<table border=\"1\" class=\"dataframe\">\n",
       "  <thead>\n",
       "    <tr style=\"text-align: right;\">\n",
       "      <th></th>\n",
       "      <th>Bitstamp</th>\n",
       "      <th>Coinbase</th>\n",
       "      <th>Spread</th>\n",
       "      <th>Return %</th>\n",
       "    </tr>\n",
       "    <tr>\n",
       "      <th>Timestamp</th>\n",
       "      <th></th>\n",
       "      <th></th>\n",
       "      <th></th>\n",
       "      <th></th>\n",
       "    </tr>\n",
       "  </thead>\n",
       "  <tbody>\n",
       "    <tr>\n",
       "      <th>2018-01-01 00:00:00</th>\n",
       "      <td>13646.48</td>\n",
       "      <td>13608.49</td>\n",
       "      <td>37.99</td>\n",
       "      <td>0.279164</td>\n",
       "    </tr>\n",
       "    <tr>\n",
       "      <th>2018-01-01 00:01:00</th>\n",
       "      <td>13658.75</td>\n",
       "      <td>13601.66</td>\n",
       "      <td>57.09</td>\n",
       "      <td>0.419728</td>\n",
       "    </tr>\n",
       "    <tr>\n",
       "      <th>2018-01-01 00:02:00</th>\n",
       "      <td>13610.22</td>\n",
       "      <td>13580.00</td>\n",
       "      <td>30.22</td>\n",
       "      <td>0.222533</td>\n",
       "    </tr>\n",
       "    <tr>\n",
       "      <th>2018-01-01 00:03:00</th>\n",
       "      <td>13639.09</td>\n",
       "      <td>13550.34</td>\n",
       "      <td>88.75</td>\n",
       "      <td>0.654965</td>\n",
       "    </tr>\n",
       "    <tr>\n",
       "      <th>2018-01-01 00:04:00</th>\n",
       "      <td>13620.00</td>\n",
       "      <td>13583.44</td>\n",
       "      <td>36.56</td>\n",
       "      <td>0.269151</td>\n",
       "    </tr>\n",
       "    <tr>\n",
       "      <th>...</th>\n",
       "      <td>...</td>\n",
       "      <td>...</td>\n",
       "      <td>...</td>\n",
       "      <td>...</td>\n",
       "    </tr>\n",
       "    <tr>\n",
       "      <th>2018-03-31 23:55:00</th>\n",
       "      <td>6922.56</td>\n",
       "      <td>6930.00</td>\n",
       "      <td>7.44</td>\n",
       "      <td>0.107475</td>\n",
       "    </tr>\n",
       "    <tr>\n",
       "      <th>2018-03-31 23:56:00</th>\n",
       "      <td>6920.32</td>\n",
       "      <td>6930.01</td>\n",
       "      <td>9.69</td>\n",
       "      <td>0.140022</td>\n",
       "    </tr>\n",
       "    <tr>\n",
       "      <th>2018-03-31 23:57:00</th>\n",
       "      <td>6934.72</td>\n",
       "      <td>6933.91</td>\n",
       "      <td>0.81</td>\n",
       "      <td>0.011682</td>\n",
       "    </tr>\n",
       "    <tr>\n",
       "      <th>2018-03-31 23:58:00</th>\n",
       "      <td>6927.65</td>\n",
       "      <td>6937.31</td>\n",
       "      <td>9.66</td>\n",
       "      <td>0.139441</td>\n",
       "    </tr>\n",
       "    <tr>\n",
       "      <th>2018-03-31 23:59:00</th>\n",
       "      <td>6928.01</td>\n",
       "      <td>6934.00</td>\n",
       "      <td>5.99</td>\n",
       "      <td>0.086461</td>\n",
       "    </tr>\n",
       "  </tbody>\n",
       "</table>\n",
       "<p>129537 rows × 4 columns</p>\n",
       "</div>"
      ],
      "text/plain": [
       "                     Bitstamp  Coinbase  Spread  Return %\n",
       "Timestamp                                                \n",
       "2018-01-01 00:00:00  13646.48  13608.49   37.99  0.279164\n",
       "2018-01-01 00:01:00  13658.75  13601.66   57.09  0.419728\n",
       "2018-01-01 00:02:00  13610.22  13580.00   30.22  0.222533\n",
       "2018-01-01 00:03:00  13639.09  13550.34   88.75  0.654965\n",
       "2018-01-01 00:04:00  13620.00  13583.44   36.56  0.269151\n",
       "...                       ...       ...     ...       ...\n",
       "2018-03-31 23:55:00   6922.56   6930.00    7.44  0.107475\n",
       "2018-03-31 23:56:00   6920.32   6930.01    9.69  0.140022\n",
       "2018-03-31 23:57:00   6934.72   6933.91    0.81  0.011682\n",
       "2018-03-31 23:58:00   6927.65   6937.31    9.66  0.139441\n",
       "2018-03-31 23:59:00   6928.01   6934.00    5.99  0.086461\n",
       "\n",
       "[129537 rows x 4 columns]"
      ]
     },
     "metadata": {},
     "output_type": "display_data"
    }
   ],
   "source": [
    "# Review the spread return DataFrame\n",
    "display(main_df)"
   ]
  },
  {
   "cell_type": "code",
   "execution_count": null,
   "metadata": {},
   "outputs": [],
   "source": [
    "## Graph Functions and Widgets"
   ]
  },
  {
   "cell_type": "code",
   "execution_count": 11,
   "metadata": {},
   "outputs": [],
   "source": [
    "# Function to slice DataFrame to 1 Day centered on the value passed to the function\n",
    "def gen_sliced_df(date_picked):\n",
    "    slice_start_date = bitstamp.sliced.index[date_picked] - timedelta(days=.5)\n",
    "    slice_end_date = slice_start_date + timedelta(days=1)\n",
    "\n",
    "    sliced_df = main_df.loc[slice_start_date:slice_end_date]\n",
    "\n",
    "    return sliced_df"
   ]
  },
  {
   "cell_type": "code",
   "execution_count": 12,
   "metadata": {},
   "outputs": [],
   "source": [
    "# Slider to adjust the plot's vertical scale\n",
    "scale = widgets.FloatRangeSlider(\n",
    "    value = [.75*min(main_df['Bitstamp']), 1.25*max(main_df['Bitstamp'])],\n",
    "    min=.75*min(main_df['Bitstamp']), \n",
    "    max=1.25*max(main_df['Bitstamp']),\n",
    "    description='Scale',\n",
    "    disabled=False,\n",
    "    continuous_update=True,\n",
    "    orientation='vertical',\n",
    "    readout=False,\n",
    "    readout_format='d',\n",
    "    # layout=widgets.Layout(height='350px'),\n",
    "    layout=widgets.Layout(height='100%'),\n",
    ")"
   ]
  },
  {
   "cell_type": "code",
   "execution_count": 13,
   "metadata": {},
   "outputs": [],
   "source": [
    "# Checkboxes to show/hide the data for each exchange\n",
    "bitstamp_checkbox = widgets.Checkbox(\n",
    "    value=True,\n",
    "    description='Bitstamp',\n",
    "    disabled=False\n",
    ")\n",
    "\n",
    "coinbase_checkbox = widgets.Checkbox(\n",
    "    value=True,\n",
    "    description='Coinbase',\n",
    "    disabled=False\n",
    ")\n"
   ]
  },
  {
   "cell_type": "code",
   "execution_count": 14,
   "metadata": {},
   "outputs": [],
   "source": [
    "# Slider to adjust the plot's horizontal scale\n",
    "date_slicer = widgets.IntRangeSlider(\n",
    "    value=[0, len(main_df.index)-1],\n",
    "    min=0,\n",
    "    max=len(main_df.index)-1,\n",
    "    step=1,\n",
    "    description='Date Range',\n",
    "    disabled=False,\n",
    "    continuous_update=True,\n",
    "    orientation='horizontal',\n",
    "    readout=True,\n",
    "    readout_format='d',\n",
    ")\n"
   ]
  },
  {
   "cell_type": "code",
   "execution_count": 15,
   "metadata": {},
   "outputs": [],
   "source": [
    "# Sliders to pick center date for each analysis window tab\n",
    "date_picker_1 = widgets.IntSlider(\n",
    "    value=int(round(len(main_df.index)/2, 0)),\n",
    "    min=date_slicer.value[0],\n",
    "    max=date_slicer.value[1],\n",
    "    description='Date Picker',\n",
    "    readout=False,\n",
    "    # layout=widgets.Layout(width=f'900px')\n",
    "    layout=widgets.Layout(width=f'100%')\n",
    "    )\n",
    "\n",
    "date_picker_2 = widgets.IntSlider(\n",
    "    value=int(round(len(main_df.index)/2, 0)),\n",
    "    min=date_slicer.value[0],\n",
    "    max=date_slicer.value[1],\n",
    "    description='Date Picker',\n",
    "    readout=False,\n",
    "    # layout=widgets.Layout(width=f'900px')\n",
    "    layout=widgets.Layout(width=f'100%')\n",
    "    )\n",
    "\n",
    "date_picker_3 = widgets.IntSlider(\n",
    "    value=int(round(len(main_df.index)/2, 0)),\n",
    "    min=date_slicer.value[0],\n",
    "    max=date_slicer.value[1],\n",
    "    description='Date Picker',\n",
    "    readout=False,\n",
    "    # layout=widgets.Layout(width=f'900px')\n",
    "    layout=widgets.Layout(width=f'100%')\n",
    "    )\n"
   ]
  },
  {
   "cell_type": "code",
   "execution_count": 16,
   "metadata": {},
   "outputs": [],
   "source": [
    "# Text box to display the date picked for each tab\n",
    "date_picked_1 = widgets.Text(\n",
    "    f\"{main_df.index[date_picker_1.value]}\",\n",
    "    )\n",
    "\n",
    "date_picked_2 = widgets.Text(\n",
    "    f\"{main_df.index[date_picker_2.value]}\",\n",
    "    )\n",
    "\n",
    "date_picked_3 = widgets.Text(\n",
    "    f\"{main_df.index[date_picker_3.value]}\",\n",
    "    )\n"
   ]
  },
  {
   "cell_type": "code",
   "execution_count": null,
   "metadata": {},
   "outputs": [],
   "source": [
    "## Plots"
   ]
  },
  {
   "cell_type": "code",
   "execution_count": 17,
   "metadata": {},
   "outputs": [],
   "source": [
    "# Main plot\n",
    "def main_plotter(\n",
    "    range_slider, \n",
    "    date_slicer, \n",
    "    bitstamp_checkbox, \n",
    "    coinbase_checkbox, \n",
    "    ):\n",
    "    \"\"\"\n",
    "    A helper function to make a graph.\n",
    "    \"\"\"\n",
    "    vz.main_plotter(\n",
    "        main_df, \n",
    "        range_slider, \n",
    "        date_slicer, \n",
    "        bitstamp_checkbox, \n",
    "        coinbase_checkbox, \n",
    "        )\n",
    "\n",
    "main_plot = widgets.interactive_output(\n",
    "    main_plotter, \n",
    "    {\n",
    "        'range_slider': scale,\n",
    "        'date_slicer': date_slicer,\n",
    "        'bitstamp_checkbox': bitstamp_checkbox,\n",
    "        'coinbase_checkbox': coinbase_checkbox,\n",
    "        }\n",
    "    )\n"
   ]
  },
  {
   "cell_type": "code",
   "execution_count": 18,
   "metadata": {},
   "outputs": [],
   "source": [
    "# Single day plot for each analysis tab\n",
    "def day_plotter(date_picker):\n",
    "    vz.day_plotter(main_df, date_picker)\n",
    "    \n",
    "day_out_1 = widgets.interactive_output(\n",
    "    day_plotter,\n",
    "    {\n",
    "        'date_picker': date_picker_1,\n",
    "    }\n",
    ")\n",
    "\n",
    "day_out_2 = widgets.interactive_output(\n",
    "    day_plotter,\n",
    "    {\n",
    "        'date_picker': date_picker_2,\n",
    "    }\n",
    ")\n",
    "\n",
    "day_out_3 = widgets.interactive_output(\n",
    "    day_plotter,\n",
    "    {\n",
    "        'date_picker': date_picker_3,\n",
    "    }\n",
    ")\n"
   ]
  },
  {
   "cell_type": "code",
   "execution_count": 19,
   "metadata": {},
   "outputs": [],
   "source": [
    "def arbitrage_summary(target_date_index):\n",
    "    sliced_df = gen_sliced_df(target_date_index)\n",
    "    vz.arbitrage_summary(sliced_df['Spread'])\n",
    "\n",
    "arbitrage_out_1 = widgets.interactive_output(\n",
    "    arbitrage_summary,\n",
    "    {\n",
    "        'target_date_index': date_picker_1\n",
    "    }\n",
    ")\n",
    "\n",
    "arbitrage_out_2 = widgets.interactive_output(\n",
    "    arbitrage_summary,\n",
    "    {\n",
    "        'target_date_index': date_picker_2\n",
    "    }\n",
    ")\n",
    "\n",
    "arbitrage_out_3 = widgets.interactive_output(\n",
    "    arbitrage_summary,\n",
    "    {\n",
    "        'target_date_index': date_picker_3\n",
    "    }\n",
    ")\n"
   ]
  },
  {
   "cell_type": "code",
   "execution_count": 20,
   "metadata": {},
   "outputs": [],
   "source": [
    "tab_1_container = widgets.VBox(\n",
    "    [\n",
    "        widgets.HBox(\n",
    "            [\n",
    "                date_picker_1, \n",
    "                date_picked_1\n",
    "            ]\n",
    "        ), \n",
    "        widgets.HBox(\n",
    "            [\n",
    "                arbitrage_out_1, \n",
    "                day_out_1\n",
    "            ]\n",
    "        ), \n",
    "    ]\n",
    ") \n",
    "\n",
    "tab_2_container = widgets.VBox(\n",
    "    [\n",
    "        widgets.HBox(\n",
    "            [\n",
    "                date_picker_2, \n",
    "                date_picked_2\n",
    "            ]\n",
    "        ), \n",
    "        widgets.HBox(\n",
    "            [\n",
    "                arbitrage_out_2, \n",
    "                day_out_2\n",
    "            ]\n",
    "        ), \n",
    "    ]\n",
    ") \n",
    "\n",
    "tab_3_container = widgets.VBox(\n",
    "    [\n",
    "        widgets.HBox(\n",
    "            [\n",
    "                date_picker_3, \n",
    "                date_picked_3\n",
    "            ]\n",
    "        ), \n",
    "        widgets.HBox(\n",
    "            [\n",
    "                arbitrage_out_3, \n",
    "                day_out_3\n",
    "            ]\n",
    "        ), \n",
    "    ]\n",
    ") \n",
    "\n",
    "tab_titles = ['First Tab', 'Second Tab', 'Third Tab']\n",
    "\n",
    "children = [tab_1_container, tab_2_container, tab_3_container]\n",
    "tab = widgets.Tab()\n",
    "for i, t in enumerate(tab_titles):\n",
    "    tab.set_title(i, t)\n",
    "tab.children = children\n"
   ]
  },
  {
   "cell_type": "code",
   "execution_count": null,
   "metadata": {},
   "outputs": [],
   "source": [
    "# Graph"
   ]
  },
  {
   "cell_type": "code",
   "execution_count": 21,
   "metadata": {},
   "outputs": [],
   "source": [
    "vbox = widgets.VBox(\n",
    "    [\n",
    "        widgets.HBox([date_slicer, widgets.VBox([bitstamp_checkbox, coinbase_checkbox])]), \n",
    "        widgets.HBox([scale, main_plot]), \n",
    "        tab,\n",
    "        ],\n",
    "    )\n",
    "\n",
    "with output:\n",
    "    display(vbox)"
   ]
  }
 ],
 "metadata": {
  "interpreter": {
   "hash": "fa8d9c87c75bf7304be8f6b2d10d8057f63614e0dfa37d46104ee780f1535e61"
  },
  "kernelspec": {
   "display_name": "Python 3.7.10 ('dev')",
   "language": "python",
   "name": "python3"
  },
  "language_info": {
   "codemirror_mode": {
    "name": "ipython",
    "version": 3
   },
   "file_extension": ".py",
   "mimetype": "text/x-python",
   "name": "python",
   "nbconvert_exporter": "python",
   "pygments_lexer": "ipython3",
   "version": "3.7.10"
  },
  "orig_nbformat": 4
 },
 "nbformat": 4,
 "nbformat_minor": 2
}
